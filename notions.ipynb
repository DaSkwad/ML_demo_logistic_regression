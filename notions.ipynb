{
 "cells": [
  {
   "cell_type": "markdown",
   "id": "cd434755",
   "metadata": {},
   "source": [
    "# 💪🏻 Métriques de performance pour la classification"
   ]
  },
  {
   "cell_type": "markdown",
   "id": "5543cba4",
   "metadata": {},
   "source": [
    "Pour évaluer la qualité des prédictions d’un modèle de classification, on utilise plusieurs métriques basées sur le nombre de bonnes et mauvaises classifications. Ces métriques s’appuient sur les quatre catégories de résultats possibles : \n",
    "\n",
    "**TP** = Vrais positifs (bien classés comme 1)  \n",
    "**TN** = Vrais négatifs (bien classés comme 0)  \n",
    "**FP** = Faux positifs (prévus 1, en réalité 0)  \n",
    "**FN** = Faux négatifs (prévus 0, en réalité 1)"
   ]
  },
  {
   "cell_type": "markdown",
   "id": "dd125a5d",
   "metadata": {},
   "source": [
    "### 🔵 Accuracy (exactitude)\n",
    "\n",
    "Proportion de bonnes prédictions (**TP** + **TN**) parmi toutes les prédictions (**TP** + **TN** + **FP** + **FN**).\n",
    "\n",
    "\n",
    "L'exactitude est définie par $\\text{Accuracy} = \\frac{TP + TN}{TP + TN + FP + FN}$  "
   ]
  },
  {
   "cell_type": "markdown",
   "id": "df20e7af",
   "metadata": {},
   "source": [
    "###  🔵 Precision (précision)\n",
    "\n",
    "Proportion des cas correctement prédits positifs (**TP**) parmi tous ceux que le modèle a prédits comme positifs (**TP** + **FP**).\n",
    "\n",
    "$\\text{Precision} = \\frac{TP}{TP + FP}$\n",
    "\n",
    "La précision est utile lorsque nous voulons **minimiser les fausses alertes**, c’est-à-dire les cas où le modèle identifie à tort un élément comme positif alors qu’il ne l’est pas (par exemple : annoncer qu’une personne est malade alors qu’elle ne l’est pas).\n",
    "\n",
    "👉🏻 La précision augmente lorsque le nombre de **faux positifs** baisse."
   ]
  },
  {
   "cell_type": "markdown",
   "id": "23f39d2f",
   "metadata": {},
   "source": [
    "###  🔵 Recall (rappel ou sensibilité)\n",
    "\n",
    "Proportion des individus correctement prédits comme positifs (**TP**) parmi tous les individus effectivement positifs (**TP** + **FN**).\n",
    "\n",
    "$\\text{Recall} = \\frac{TP}{TP + FN}$\n",
    "\n",
    "Le rappel est utile lorsque nous voulons **minimiser les cas de non-détection**, c’est-à-dire les situations où le modèle n’identifie pas un cas positif alors qu’il aurait dû le faire (par exemple : ne pas annoncer à une personne qu'elle est malade alors qu’elle l'est réellement).\n",
    "\n",
    "👉🏻 Le rappel augmente lorsque le nombre de **faux négatifs** baisse."
   ]
  },
  {
   "cell_type": "markdown",
   "id": "cd21de79",
   "metadata": {},
   "source": [
    "###  🔵 F1-score\n",
    "\n",
    "Moyenne harmonique entre **précision** et **rappel** (équilibre entre les deux).\n",
    "\n",
    "$\\text{F1-score} = 2 \\times \\frac{\\text{Precision} \\times \\text{Recall}}{\\text{Precision} + \\text{Recall}}$\n",
    "\n",
    "Le F1-score est très utile lorsqu’il faut trouver un **équilibre entre les fausses alertes et les non-détections**, notamment dans des contextes où les classes sont déséquilibrées. Une faible précision ou un faible rappel fera automatiquement chuter le F1-score, ce qui en fait un bon indicateur global de performance dans des situations sensibles.\n"
   ]
  },
  {
   "cell_type": "markdown",
   "id": "180c402a",
   "metadata": {},
   "source": [
    "### En résumé\n",
    "\n",
    "| Métrique  | Quand l’utiliser ?                                        |\n",
    "|---------- | ----------------------------------------------------------|\n",
    "|Accuracy   | Si les classes sont bien équilibrées                      |\n",
    "|Precision  | S'il faut éviter les fausses alertes                      |\n",
    "|Recall     | D'il faut minimiser les oublis                            |\n",
    "|F1-score   | S'il faut un compromis équilibré entre Precision et Recall|\n"
   ]
  }
 ],
 "metadata": {
  "kernelspec": {
   "display_name": ".venv",
   "language": "python",
   "name": "python3"
  },
  "language_info": {
   "name": "python",
   "version": "3.13.3"
  }
 },
 "nbformat": 4,
 "nbformat_minor": 5
}
